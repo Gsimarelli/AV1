{
 "cells": [
  {
   "cell_type": "markdown",
   "metadata": {},
   "source": [
    "![FLUXOGRAMA]({2A265BE0-6405-4CE0-AFB8-D437015D9421}.png)"
   ]
  },
  {
   "cell_type": "code",
   "execution_count": 8,
   "metadata": {},
   "outputs": [
    {
     "name": "stdout",
     "output_type": "stream",
     "text": [
      "20\n",
      "Velocidade inicial =  40 \n",
      "Altura Máxima =  2.0408163265306123\n"
     ]
    }
   ],
   "source": [
    "ra = str(input(\"digite seu ra: \"))\n",
    "\n",
    "soma_do_RA = 0\n",
    "\n",
    "for digito in str(ra):\n",
    "    soma_do_RA += int(digito)\n",
    "\n",
    "print(soma_do_RA)\n",
    "\n",
    "velocidade_inicial = soma_do_RA*2\n",
    "aceleracao = 9.8\n",
    "\n",
    "altura_maxima = velocidade_inicial / (2 * aceleracao)\n",
    "\n",
    "print(\"Velocidade inicial = \", velocidade_inicial, \"\\nAltura Máxima = \", altura_maxima)\n",
    "\n",
    "\n"
   ]
  },
  {
   "cell_type": "code",
   "execution_count": null,
   "metadata": {},
   "outputs": [],
   "source": []
  }
 ],
 "metadata": {
  "kernelspec": {
   "display_name": "base",
   "language": "python",
   "name": "python3"
  },
  "language_info": {
   "codemirror_mode": {
    "name": "ipython",
    "version": 3
   },
   "file_extension": ".py",
   "mimetype": "text/x-python",
   "name": "python",
   "nbconvert_exporter": "python",
   "pygments_lexer": "ipython3",
   "version": "3.12.7"
  }
 },
 "nbformat": 4,
 "nbformat_minor": 2
}
